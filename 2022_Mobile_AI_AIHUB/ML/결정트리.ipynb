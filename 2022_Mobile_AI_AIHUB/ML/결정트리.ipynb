{
 "cells": [
  {
   "cell_type": "markdown",
   "metadata": {},
   "source": [
    "# 결정트리"
   ]
  },
  {
   "cell_type": "markdown",
   "metadata": {
    "id": "_v1_cqvQxlPo"
   },
   "source": [
    "## 지니 불순도\n",
    "## $$ gini = 1 - (음성클래스비율^2 + 양성클래스비율^2) $$"
   ]
  }
 ],
 "metadata": {
  "colab": {
   "authorship_tag": "ABX9TyNQwwqY3AwnBs5C1Thfewzu",
   "collapsed_sections": [],
   "name": "머신러닝기초실습_5-1_결정트리.ipynb",
   "provenance": []
  },
  "kernelspec": {
   "display_name": "Python 3 (ipykernel)",
   "language": "python",
   "name": "python3"
  },
  "language_info": {
   "codemirror_mode": {
    "name": "ipython",
    "version": 3
   },
   "file_extension": ".py",
   "mimetype": "text/x-python",
   "name": "python",
   "nbconvert_exporter": "python",
   "pygments_lexer": "ipython3",
   "version": "3.9.12"
  }
 },
 "nbformat": 4,
 "nbformat_minor": 1
}
