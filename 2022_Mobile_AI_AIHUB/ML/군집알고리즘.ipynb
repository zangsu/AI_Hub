{
 "cells": [
  {
   "cell_type": "markdown",
   "metadata": {
    "id": "daozf90L42u5"
   },
   "source": [
    "## 과일 사진 데이터 준비하기"
   ]
  },
  {
   "cell_type": "markdown",
   "metadata": {
    "id": "qVFXHzNvtolm"
   },
   "source": [
    "## 픽셀값 분석하기"
   ]
  },
  {
   "cell_type": "markdown",
   "metadata": {
    "id": "m2l8UoV5tvjO"
   },
   "source": [
    "## 평균값과 가까운 사진 고르기"
   ]
  }
 ],
 "metadata": {
  "colab": {
   "authorship_tag": "ABX9TyOj9J7Gz3+JLufVdz7gMq2c",
   "collapsed_sections": [],
   "mount_file_id": "1u9jcCpK9_BUlG5rwft5JpoqVv7ndRHfW",
   "name": "머신러닝기초실습_6-1_군집알고리즘.ipynb",
   "provenance": []
  },
  "kernelspec": {
   "display_name": "Python 3 (ipykernel)",
   "language": "python",
   "name": "python3"
  },
  "language_info": {
   "codemirror_mode": {
    "name": "ipython",
    "version": 3
   },
   "file_extension": ".py",
   "mimetype": "text/x-python",
   "name": "python",
   "nbconvert_exporter": "python",
   "pygments_lexer": "ipython3",
   "version": "3.9.12"
  }
 },
 "nbformat": 4,
 "nbformat_minor": 1
}
